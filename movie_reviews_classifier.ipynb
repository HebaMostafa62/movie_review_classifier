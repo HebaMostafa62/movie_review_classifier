{
 "cells": [
  {
   "cell_type": "code",
   "execution_count": 1,
   "id": "e6cbf2cb",
   "metadata": {},
   "outputs": [],
   "source": [
    "import keras\n",
    "from keras.datasets import imdb\n",
    "(train_data, train_labels), (test_data, test_lables) = imdb.load_data(num_words = NUM)"
   ]
  },
  {
   "cell_type": "code",
   "execution_count": 2,
   "id": "96043528",
   "metadata": {},
   "outputs": [],
   "source": [
    "NUM = 10000"
   ]
  },
  {
   "cell_type": "code",
   "execution_count": 75,
   "id": "b1952ba3",
   "metadata": {},
   "outputs": [
    {
     "name": "stdout",
     "output_type": "stream",
     "text": [
      "<class 'list'>\n",
      "kk this film was just brilliant casting location scenery story direction everyone's really suited the part they played and you could just imagine being there robert kk is an amazing actor and now the same being director kk father came from the same scottish island as myself so i loved the fact there was a real connection with this film the witty remarks throughout the film were great it was just brilliant so much that i bought the film as soon as it was released for kk and would recommend it to everyone to watch and the fly fishing was amazing really cried at the end it was so sad and you know what they say if you cry at a film it must have been good and this definitely was also kk to the two little boy's that played the kk of norman and paul they were just brilliant children are often left out of the kk list i think because the stars that play them all grown up are such a big profile for the whole film but these children are amazing and should be praised for what they have done don't you think the whole story was so lovely because it was true and was someone's life after all that was shared with us all\n"
     ]
    }
   ],
   "source": [
    "def decode(txt):\n",
    "    reverse = dict([(value+3, key) for (key, value) in imdb.get_word_index().items()])\n",
    "    decode = ' '.join([reverse.get(i,'kk') for i in txt])\n",
    "    return decode\n",
    "print(decode(train_data[0]))"
   ]
  },
  {
   "cell_type": "code",
   "execution_count": 36,
   "id": "23c2c064",
   "metadata": {},
   "outputs": [
    {
     "name": "stdout",
     "output_type": "stream",
     "text": [
      "(25000,)\n"
     ]
    }
   ],
   "source": [
    "import numpy as np\n",
    "\n",
    "def vec_seq(seq, dim=NUM):\n",
    "    result = np.zeros((len(seq), dim))\n",
    "    for i, seq in enumerate(seq):\n",
    "        result[i][seq] = 1 \n",
    "    return result\n",
    "x_train = vec_seq(train_data)\n",
    "x_test = vec_seq(test_data)"
   ]
  },
  {
   "cell_type": "code",
   "execution_count": 12,
   "id": "5072365d",
   "metadata": {},
   "outputs": [],
   "source": [
    "y_train = np.asarray(train_labels).astype('float32')\n",
    "y_test = np.asarray(test_lables).astype('float32')"
   ]
  },
  {
   "cell_type": "code",
   "execution_count": 13,
   "id": "b795770c",
   "metadata": {},
   "outputs": [],
   "source": [
    "from keras import models, layers, regularizers\n",
    "model = models.Sequential()\n",
    "model.add(layers.Dense(8, activation='relu', input_shape=(NUM,), kernel_regularizer=regularizers.l1(0.0007)))\n",
    "model.add(layers.Dense(8, activation='relu' , kernel_regularizer=regularizers.l1(0.0007)))\n",
    "# model.add(layers.Dropout(.8))\n",
    "model.add(layers.Dense(1, activation='sigmoid'))\n",
    "model.compile(loss = 'binary_crossentropy', optimizer='rmsprop', metrics=['accuracy'])"
   ]
  },
  {
   "cell_type": "code",
   "execution_count": 14,
   "id": "99d943a3",
   "metadata": {},
   "outputs": [],
   "source": [
    "x_val = x_train[:10000]\n",
    "x_train = x_train[10000:]\n",
    "y_val = y_train[:10000]\n",
    "y_train = y_train[10000:]"
   ]
  },
  {
   "cell_type": "code",
   "execution_count": 15,
   "id": "2629f2eb",
   "metadata": {},
   "outputs": [],
   "source": [
    "epochs = 20"
   ]
  },
  {
   "cell_type": "code",
   "execution_count": 16,
   "id": "34b16ceb",
   "metadata": {},
   "outputs": [
    {
     "name": "stdout",
     "output_type": "stream",
     "text": [
      "Epoch 1/20\n",
      "30/30 [==============================] - 12s 401ms/step - loss: 0.8081 - accuracy: 0.6863 - val_loss: 0.6630 - val_accuracy: 0.8307\n",
      "Epoch 2/20\n",
      "30/30 [==============================] - 1s 27ms/step - loss: 0.6164 - accuracy: 0.8256 - val_loss: 0.5851 - val_accuracy: 0.8443\n",
      "Epoch 3/20\n",
      "30/30 [==============================] - 1s 24ms/step - loss: 0.5445 - accuracy: 0.8645 - val_loss: 0.5260 - val_accuracy: 0.8580\n",
      "Epoch 4/20\n",
      "30/30 [==============================] - 1s 26ms/step - loss: 0.4919 - accuracy: 0.8739 - val_loss: 0.4945 - val_accuracy: 0.8617\n",
      "Epoch 5/20\n",
      "30/30 [==============================] - 1s 23ms/step - loss: 0.4605 - accuracy: 0.8779 - val_loss: 0.4761 - val_accuracy: 0.8645\n",
      "Epoch 6/20\n",
      "30/30 [==============================] - 1s 23ms/step - loss: 0.4403 - accuracy: 0.8830 - val_loss: 0.4520 - val_accuracy: 0.8720\n",
      "Epoch 7/20\n",
      "30/30 [==============================] - 1s 23ms/step - loss: 0.4249 - accuracy: 0.8859 - val_loss: 0.4427 - val_accuracy: 0.8762\n",
      "Epoch 8/20\n",
      "30/30 [==============================] - 1s 22ms/step - loss: 0.4137 - accuracy: 0.8887 - val_loss: 0.4369 - val_accuracy: 0.8746\n",
      "Epoch 9/20\n",
      "30/30 [==============================] - 1s 24ms/step - loss: 0.4058 - accuracy: 0.8905 - val_loss: 0.4378 - val_accuracy: 0.8725\n",
      "Epoch 10/20\n",
      "30/30 [==============================] - 1s 22ms/step - loss: 0.3999 - accuracy: 0.8915 - val_loss: 0.4341 - val_accuracy: 0.8756\n",
      "Epoch 11/20\n",
      "30/30 [==============================] - 1s 22ms/step - loss: 0.3942 - accuracy: 0.8946 - val_loss: 0.4467 - val_accuracy: 0.8656\n",
      "Epoch 12/20\n",
      "30/30 [==============================] - 1s 21ms/step - loss: 0.3892 - accuracy: 0.8963 - val_loss: 0.4297 - val_accuracy: 0.8752\n",
      "Epoch 13/20\n",
      "30/30 [==============================] - 1s 22ms/step - loss: 0.3861 - accuracy: 0.8977 - val_loss: 0.4347 - val_accuracy: 0.8727\n",
      "Epoch 14/20\n",
      "30/30 [==============================] - 1s 23ms/step - loss: 0.3840 - accuracy: 0.8964 - val_loss: 0.4328 - val_accuracy: 0.8734\n",
      "Epoch 15/20\n",
      "30/30 [==============================] - 1s 22ms/step - loss: 0.3768 - accuracy: 0.9002 - val_loss: 0.4197 - val_accuracy: 0.8816\n",
      "Epoch 16/20\n",
      "30/30 [==============================] - 1s 22ms/step - loss: 0.3745 - accuracy: 0.9003 - val_loss: 0.4187 - val_accuracy: 0.8811\n",
      "Epoch 17/20\n",
      "30/30 [==============================] - 1s 21ms/step - loss: 0.3715 - accuracy: 0.9029 - val_loss: 0.4179 - val_accuracy: 0.8818\n",
      "Epoch 18/20\n",
      "30/30 [==============================] - 1s 22ms/step - loss: 0.3685 - accuracy: 0.9015 - val_loss: 0.4188 - val_accuracy: 0.8823\n",
      "Epoch 19/20\n",
      "30/30 [==============================] - 1s 22ms/step - loss: 0.3665 - accuracy: 0.9057 - val_loss: 0.4283 - val_accuracy: 0.8743\n",
      "Epoch 20/20\n",
      "30/30 [==============================] - 1s 21ms/step - loss: 0.3633 - accuracy: 0.9067 - val_loss: 0.4244 - val_accuracy: 0.8764\n"
     ]
    }
   ],
   "source": [
    "history = model.fit(x_train, y_train, epochs = epochs, batch_size=512, validation_data = (x_val, y_val))"
   ]
  },
  {
   "cell_type": "code",
   "execution_count": 17,
   "id": "fb1c54ce",
   "metadata": {},
   "outputs": [
    {
     "data": {
      "text/plain": [
       "dict_keys(['loss', 'accuracy', 'val_loss', 'val_accuracy'])"
      ]
     },
     "execution_count": 17,
     "metadata": {},
     "output_type": "execute_result"
    }
   ],
   "source": [
    "his_dic = history.history\n",
    "his_dic.keys()\n",
    "# len(his_dic['loss'])"
   ]
  },
  {
   "cell_type": "code",
   "execution_count": 18,
   "id": "43a5161e",
   "metadata": {},
   "outputs": [
    {
     "data": {
      "image/png": "[encoded data removed]",
      "text/plain": [
       "<Figure size 432x288 with 1 Axes>"
      ]
     },
     "metadata": {
      "needs_background": "light"
     },
     "output_type": "display_data"
    }
   ],
   "source": [
    "import matplotlib.pyplot as plt\n",
    "\n",
    "plt.plot(range(1,epochs+1), np.array(his_dic['loss']),'bo', label='Training loss')\n",
    "plt.plot(range(1,epochs+1), np.array(his_dic['val_loss']),'b', label='Validation loss')\n",
    "\n",
    "plt.title('Training and validation loss')\n",
    "plt.xlabel('Epochs')\n",
    "plt.ylabel('Loss')\n",
    "plt.legend()\n",
    "plt.show()"
   ]
  },
  {
   "cell_type": "code",
   "execution_count": 19,
   "id": "1e3eea19",
   "metadata": {},
   "outputs": [
    {
     "data": {
      "image/png": "[encoded data removed]",
      "text/plain": [
       "<Figure size 432x288 with 1 Axes>"
      ]
     },
     "metadata": {
      "needs_background": "light"
     },
     "output_type": "display_data"
    }
   ],
   "source": [
    "import matplotlib.pyplot as plt\n",
    "\n",
    "plt.plot(range(1,epochs+1), np.array(his_dic['accuracy']),'bo', label='Training acc')\n",
    "plt.plot(range(1,epochs+1), np.array(his_dic['val_accuracy']),'b', label='Validation acc')\n",
    "\n",
    "plt.title('Training and validation acc')\n",
    "plt.xlabel('Epochs')\n",
    "plt.ylabel('acc')\n",
    "plt.legend()\n",
    "plt.show()"
   ]
  },
  {
   "cell_type": "code",
   "execution_count": 20,
   "id": "7aa140c6",
   "metadata": {},
   "outputs": [
    {
     "name": "stdout",
     "output_type": "stream",
     "text": [
      "782/782 [==============================] - 2s 2ms/step - loss: 0.4289 - accuracy: 0.8713\n"
     ]
    },
    {
     "data": {
      "text/plain": [
       "[0.4288879334926605, 0.8713200092315674]"
      ]
     },
     "execution_count": 20,
     "metadata": {},
     "output_type": "execute_result"
    }
   ],
   "source": [
    "model.evaluate(x_test, y_test)"
   ]
  },
  {
   "cell_type": "code",
   "execution_count": 125,
   "id": "7df06ce7",
   "metadata": {},
   "outputs": [],
   "source": [
    "def encode_txt(txt):\n",
    "    encoded_Str = [imdb.get_word_index().get(i,'?') for i in txt.split(' ')]\n",
    "    encoded_Str.remove(\"?\")\n",
    "    encoded_Str = [i+3 for i in encoded_Str]\n",
    "    return encoded_Str"
   ]
  },
  {
   "cell_type": "code",
   "execution_count": 126,
   "id": "768d371c",
   "metadata": {},
   "outputs": [],
   "source": [
    "def classify_review(txt):\n",
    "    test = encode_txt(txt)\n",
    "    test = vec_seq(np.array([test]))\n",
    "    result = model.predict(test)\n",
    "    print(result)\n",
    "    return (\"Positive\" if result > 0.5 else \"Negative\" )"
   ]
  },
  {
   "cell_type": "code",
   "execution_count": 127,
   "id": "bdc86525",
   "metadata": {},
   "outputs": [
    {
     "name": "stdout",
     "output_type": "stream",
     "text": [
      "really loved this movie it was amazing\n"
     ]
    }
   ],
   "source": [
    "print(decode(encode_txt(\"I really loved this movie it was amazing\")))"
   ]
  },
  {
   "cell_type": "code",
   "execution_count": 128,
   "id": "e4a18f7a",
   "metadata": {},
   "outputs": [
    {
     "name": "stdout",
     "output_type": "stream",
     "text": [
      "[[0.30585986]]\n",
      "Negative\n"
     ]
    }
   ],
   "source": [
    "# new_input = \"I really loved this movie it was amazing\"\n",
    "new_input = \"I really hate this movie it was very bad\"\n",
    "print(classify_review(new_input))"
   ]
  },
  {
   "cell_type": "code",
   "execution_count": null,
   "id": "d1b574a7",
   "metadata": {},
   "outputs": [],
   "source": []
  }
 ],
 "metadata": {
  "kernelspec": {
   "display_name": "Python 3",
   "language": "python",
   "name": "python3"
  },
  "language_info": {
   "codemirror_mode": {
    "name": "ipython",
    "version": 3
   },
   "file_extension": ".py",
   "mimetype": "text/x-python",
   "name": "python",
   "nbconvert_exporter": "python",
   "pygments_lexer": "ipython3",
   "version": "3.8.8"
  }
 },
 "nbformat": 4,
 "nbformat_minor": 5
}
